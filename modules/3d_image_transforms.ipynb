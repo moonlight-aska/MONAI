{
 "cells": [
  {
   "cell_type": "markdown",
   "id": "c342d8d0",
   "metadata": {},
   "source": [
    "# MONAI : Tutorial : modules\n",
    "## 3d_image_transforms\n",
    "\n",
    "参照URL:\n",
    "- https://github.com/Project-MONAI/tutorials/blob/main/modules/3d_image_transforms.ipynb"
   ]
  },
  {
   "cell_type": "markdown",
   "id": "9cb0b36b",
   "metadata": {},
   "source": [
    "## 0. 準備"
   ]
  },
  {
   "cell_type": "code",
   "execution_count": 1,
   "id": "9c0e85f7",
   "metadata": {},
   "outputs": [],
   "source": [
    "# パッケージのインストール\n",
    "#!python -c \"import monai\" || pip install -q \"monai-weekly[nibabel]\"\n",
    "#!python -c \"import matplotlib\" || pip install -q matplotlib"
   ]
  },
  {
   "cell_type": "code",
   "execution_count": null,
   "id": "8b03a700",
   "metadata": {},
   "outputs": [],
   "source": [
    "# パッケージのインポート\n",
    "import warnings\n",
    "warnings.simplefilter('ignore')\n",
    "\n",
    "import os\n",
    "from glob import glob\n",
    "import numpy as np\n",
    "import matplotlib.pyplot as plt\n",
    "\n",
    "from monai.apps import download_and_extract\n",
    "from monai.config import print_config\n",
    "from monai.transforms import (\n",
    "    EnsureChannelFirstd,\n",
    "    LoadImage,\n",
    "    LoadImaged,\n",
    "    Orientationd,\n",
    "    Rand3DElasticd,\n",
    "    RandAffined,\n",
    "    Spacingd,\n",
    ")\n",
    "\n",
    "print_config()"
   ]
  },
  {
   "cell_type": "code",
   "execution_count": null,
   "id": "6ddd68d6",
   "metadata": {},
   "outputs": [],
   "source": [
    "# データフォルダ\n",
    "root_dir = './data/MSD'"
   ]
  },
  {
   "cell_type": "code",
   "execution_count": null,
   "id": "d3970d9a",
   "metadata": {},
   "outputs": [],
   "source": [
    "# データダウンロード\n",
    "resource = \"https://msd-for-monai.s3-us-west-2.amazonaws.com/Task09_Spleen.tar\"\n",
    "md5 = \"410d4a301da4e5b2f6f86ec3ddba524e\"\n",
    "\n",
    "compressed_file = os.path.join(root_dir, 'Task09_Spleen.tar')\n",
    "data_dir = os.path.join(root_dir, 'Task09_Spleen')\n",
    "if not os.path.exists(data_dir):\n",
    "    download_and_extract(resource, compressed_file, root_dir, md5)"
   ]
  },
  {
   "cell_type": "markdown",
   "id": "5296b8e4",
   "metadata": {},
   "source": [
    "## 1. データセット"
   ]
  },
  {
   "cell_type": "code",
   "execution_count": null,
   "id": "8133fe41",
   "metadata": {},
   "outputs": [],
   "source": [
    "train_images = sorted(glob(os.path.join(data_dir, 'imagesTr', '*.nii.gz')))\n",
    "train_labels = sorted(glob(os.path.join(data_dir, 'labelsTr', '*.nii.gz')))\n",
    "\n",
    "data_dicts = [{'image': image_name, 'label': label_name} for image_name, label_name in zip(train_images, train_labels)]\n",
    "train_data_dicts, val_data_dicts = data_dicts[:-9], data_dicts[-9:]"
   ]
  },
  {
   "cell_type": "code",
   "execution_count": null,
   "id": "f03f16b5",
   "metadata": {},
   "outputs": [],
   "source": [
    "train_data_dicts[0]"
   ]
  },
  {
   "cell_type": "markdown",
   "id": "e61bf335",
   "metadata": {},
   "source": [
    "### 1.1 NlfTlファルのロード"
   ]
  },
  {
   "cell_type": "code",
   "execution_count": null,
   "id": "c5d7c437",
   "metadata": {},
   "outputs": [],
   "source": [
    "loader = LoadImage(dtype=np.float32, image_only=True)"
   ]
  },
  {
   "cell_type": "code",
   "execution_count": null,
   "id": "b7b72659",
   "metadata": {},
   "outputs": [],
   "source": [
    "image = loader(train_data_dicts[0]['image'])\n",
    "\n",
    "print(f\"image shape: {image.shape}\")\n",
    "print(f\"image affine:\\n{image.meta['affine']}\")\n",
    "print(f\"image pixdim:\\n{image.pixdim}\")"
   ]
  },
  {
   "cell_type": "code",
   "execution_count": null,
   "id": "bdd643e5",
   "metadata": {},
   "outputs": [],
   "source": [
    "loader = LoadImaged(keys=['image', 'label'], image_only=False)"
   ]
  },
  {
   "cell_type": "code",
   "execution_count": null,
   "id": "82b36643",
   "metadata": {},
   "outputs": [],
   "source": [
    "data_dict = loader(train_data_dicts[0])\n",
    "\n",
    "print(f\"image shape: {data_dict['image'].shape}\")\n",
    "print(f\"label shape: {data_dict['label'].shape}\")\n",
    "print(f\"image pixdim:\\n{data_dict['image'].pixdim}\")"
   ]
  },
  {
   "cell_type": "code",
   "execution_count": null,
   "id": "8cb21c9a",
   "metadata": {},
   "outputs": [],
   "source": [
    "image, label = data_dict['image'], data_dict['label']\n",
    "plt.figure('visualize', figsize=(8, 4))\n",
    "plt.subplot(1, 2, 1)\n",
    "plt.title('image')\n",
    "plt.imshow(image[:, :, 30], cmap='gray')\n",
    "\n",
    "plt.subplot(1, 2, 2)\n",
    "plt.title('label')\n",
    "plt.imshow(label[:, :, 30])\n",
    "plt.show()"
   ]
  },
  {
   "cell_type": "markdown",
   "id": "59a01706",
   "metadata": {},
   "source": [
    "### 1.2 1次元の確認"
   ]
  },
  {
   "cell_type": "code",
   "execution_count": null,
   "id": "998644aa",
   "metadata": {},
   "outputs": [],
   "source": [
    "ensure_channel_first = EnsureChannelFirstd(keys=['image', 'label'])\n",
    "datac_dict = ensure_channel_first(data_dict)\n",
    "print(f\"image shaep: {datac_dict['image'].shape}\")"
   ]
  },
  {
   "cell_type": "markdown",
   "id": "f45beb28",
   "metadata": {},
   "source": [
    "### 1.3 軸コードの方向転換"
   ]
  },
  {
   "cell_type": "code",
   "execution_count": null,
   "id": "6640d0ce",
   "metadata": {},
   "outputs": [],
   "source": [
    "orientation = Orientationd(keys=['image', 'label'], axcodes='PLI')"
   ]
  },
  {
   "cell_type": "code",
   "execution_count": null,
   "id": "715ab03f",
   "metadata": {},
   "outputs": [],
   "source": [
    "data_dict = orientation(datac_dict)\n",
    "\n",
    "print(f\"image shape: {data_dict['image'].shape}\")\n",
    "print(f\"label shape: {data_dict['label'].shape}\")\n",
    "print(f\"image affine after spacing:\\n{data_dict['image'].meta['affine']}\")\n",
    "print(f\"label affine after spacing:\\n{data_dict['label'].meta['affine']}\")"
   ]
  },
  {
   "cell_type": "code",
   "execution_count": null,
   "id": "33221a12",
   "metadata": {},
   "outputs": [],
   "source": [
    "image, label = data_dict['image'], data_dict['label']\n",
    "plt.figure('visualize', figsize=(8, 4))\n",
    "plt.subplot(1, 2, 1)\n",
    "plt.title('image')\n",
    "plt.imshow(image[0, :, :, 30], cmap='gray')\n",
    "plt.subplot(1, 2, 2)\n",
    "plt.title('label')\n",
    "plt.imshow(label[0, :, :, 30])\n",
    "plt.show()"
   ]
  },
  {
   "cell_type": "markdown",
   "id": "ecb3b25c",
   "metadata": {},
   "source": [
    "### 1.4 ボクセルサイズへのリサンプリング"
   ]
  },
  {
   "cell_type": "code",
   "execution_count": null,
   "id": "ddd8d592",
   "metadata": {},
   "outputs": [],
   "source": [
    "spacing = Spacingd(keys=['image', 'label'], pixdim=(1.5, 1.5, 5.0), mode=('bilinear', 'nearest'))"
   ]
  },
  {
   "cell_type": "code",
   "execution_count": null,
   "id": "97db1695",
   "metadata": {},
   "outputs": [],
   "source": [
    "data_dict = spacing(data_dict)\n",
    "\n",
    "print(f\"image shape: {data_dict['image'].shape}\")\n",
    "print(f\"label shape: {data_dict['label'].shape}\")\n",
    "print(f\"image affine after Spacing:\\n{data_dict['image'].meta['affine']}\")\n",
    "print(f\"label affine after Spacing:\\n{data_dict['label'].meta['affine']}\")"
   ]
  },
  {
   "cell_type": "code",
   "execution_count": null,
   "id": "b03af47b",
   "metadata": {},
   "outputs": [],
   "source": [
    "image, label = data_dict['image'], data_dict['label']\n",
    "\n",
    "plt.figure('visualize', figsize=(8, 4))\n",
    "plt.subplot(1, 2, 1)\n",
    "plt.title('image')\n",
    "plt.imshow(image[0, :, :, 30], cmap='gray')\n",
    "\n",
    "plt.subplot(1, 2, 2)\n",
    "plt.title('label')\n",
    "plt.imshow(label[0, :, :, 30])\n",
    "plt.show()"
   ]
  },
  {
   "cell_type": "markdown",
   "id": "8350c4c7",
   "metadata": {},
   "source": [
    "### 1.5 ランダムなアフィン変換"
   ]
  },
  {
   "cell_type": "code",
   "execution_count": null,
   "id": "f12019ce",
   "metadata": {},
   "outputs": [],
   "source": [
    "rand_affine = RandAffined(\n",
    "    keys=['image', 'label'],\n",
    "    mode=('bilinear', 'nearest'),\n",
    "    prob=1.0,\n",
    "    spatial_size=(300, 300, 50),\n",
    "    translate_range=(40, 40, 2),\n",
    "    rotate_range=(np.pi / 36, np.pi / 36, np.pi / 4),\n",
    "    scale_range=(0.15, 0.15, 0.15),\n",
    "    padding_mode='border',\n",
    ")\n",
    "\n",
    "rand_affine.set_random_state(seed=123)"
   ]
  },
  {
   "cell_type": "code",
   "execution_count": null,
   "id": "14ab8f09",
   "metadata": {},
   "outputs": [],
   "source": [
    "affined_data_dict = rand_affine(data_dict)\n",
    "print(f\"image shape: {affined_data_dict['image'].shape}\")\n"
   ]
  },
  {
   "cell_type": "code",
   "execution_count": null,
   "id": "cab31806",
   "metadata": {},
   "outputs": [],
   "source": [
    "image, label = affined_data_dict['image'][0], affined_data_dict['label'][0]\n",
    "\n",
    "plt.figure('visualize', figsize=(8, 4))\n",
    "plt.subplot(1, 2, 1)\n",
    "plt.title('image')\n",
    "plt.imshow(image[:, :, 23], cmap='gray')\n",
    "\n",
    "plt.subplot(1, 2, 2)\n",
    "plt.title('label')\n",
    "plt.imshow(label[:, :, 23])\n",
    "plt.show()"
   ]
  },
  {
   "cell_type": "markdown",
   "id": "158fd2a7",
   "metadata": {},
   "source": [
    "### 1.6 ランダムな弾性変形"
   ]
  },
  {
   "cell_type": "code",
   "execution_count": null,
   "id": "ec8ae8b1",
   "metadata": {},
   "outputs": [],
   "source": [
    "rand_elastic = Rand3DElasticd(\n",
    "    keys=['image', 'label'],\n",
    "    mode=('bilinear', 'nearest'),\n",
    "    prob=1.0,\n",
    "    sigma_range=(5, 8),\n",
    "    magnitude_range=(100, 200),\n",
    "    spatial_size=(300, 300, 10),\n",
    "    translate_range=(50, 50, 2),\n",
    "    rotate_range=(np.pi / 36, np.pi / 36, np.pi),\n",
    "    scale_range=(0.15, 0.15, 0.15),\n",
    "    padding_mode='border',\n",
    ")\n",
    "\n",
    "rand_elastic.set_random_state(seed=123)"
   ]
  },
  {
   "cell_type": "code",
   "execution_count": null,
   "id": "cd0c93eb",
   "metadata": {},
   "outputs": [],
   "source": [
    "deformed_data_dict = rand_elastic(data_dict)\n",
    "print(f\"image shape: {deformed_data_dict['image'].shape}\")"
   ]
  },
  {
   "cell_type": "code",
   "execution_count": null,
   "id": "9719d655",
   "metadata": {},
   "outputs": [],
   "source": [
    "image, label = deformed_data_dict['image'][0], deformed_data_dict['label'][0]\n",
    "\n",
    "plt.figure('visualize')\n",
    "plt.subplot(1, 2, 1)\n",
    "plt.title('image')\n",
    "plt.imshow(image[:, :, 5], cmap='gray')\n",
    "\n",
    "plt.subplot(1, 2, 2)\n",
    "plt.title('label')\n",
    "plt.imshow(label[:, :, 5])\n",
    "plt.show()\n"
   ]
  },
  {
   "cell_type": "code",
   "execution_count": null,
   "id": "c4bba6f6",
   "metadata": {},
   "outputs": [],
   "source": []
  }
 ],
 "metadata": {
  "kernelspec": {
   "display_name": "monai",
   "language": "python",
   "name": "monai"
  },
  "language_info": {
   "codemirror_mode": {
    "name": "ipython",
    "version": 3
   },
   "file_extension": ".py",
   "mimetype": "text/x-python",
   "name": "python",
   "nbconvert_exporter": "python",
   "pygments_lexer": "ipython3",
   "version": "3.7.7"
  }
 },
 "nbformat": 4,
 "nbformat_minor": 5
}
